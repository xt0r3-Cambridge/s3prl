{
 "cells": [
  {
   "cell_type": "code",
   "execution_count": null,
   "metadata": {},
   "outputs": [],
   "source": [
    "from s3prl.downstream.mdd.dataset import L2ArcticDataset\n",
    "from s3prl.downstream.specaug import SpecAug\n",
    "from s3prl.downstream.augment_utils.spectrogram import Spectrogram\n",
    "from IPython.display import Audio, display\n",
    "from torch.utils.data import RandomSampler, DataLoader, Subset\n",
    "import torch\n",
    "import einops\n"
   ]
  },
  {
   "cell_type": "code",
   "execution_count": null,
   "metadata": {},
   "outputs": [],
   "source": [
    "dataset = L2ArcticDataset(\n",
    "    'train',\n",
    "    '/home/xt0r3-user/cambridge/partii/dissertation/s3prl/data/l2arctic_release_v5.0',\n",
    "    '/home/xt0r3-user/cambridge/partii/dissertation/s3prl/s3prl/s3prl/downstream/mdd/data/'\n",
    ")"
   ]
  },
  {
   "cell_type": "code",
   "execution_count": null,
   "metadata": {},
   "outputs": [],
   "source": [
    "def play_audio(waveform, sample_rate):\n",
    "  waveform = waveform.numpy()\n",
    "  display(Audio(waveform, rate=sample_rate))"
   ]
  },
  {
   "cell_type": "code",
   "execution_count": null,
   "metadata": {},
   "outputs": [],
   "source": [
    "play_audio(dataset[0][0], 44100)"
   ]
  },
  {
   "cell_type": "code",
   "execution_count": null,
   "metadata": {},
   "outputs": [],
   "source": [
    "SAMPLE_RATE = 44100\n",
    "n_fft = 512\n",
    "n_stft = int((n_fft // 2) + 1)\n",
    "specaug = SpecAug(\n",
    "    **{\n",
    "        \"adaptive\": False,\n",
    "        \"adaptive_number_ratio\": 0.04,\n",
    "        \"adaptive_size_ratio\": 0.04,\n",
    "        \"max_n_time_masks\": 20,\n",
    "        \"apply_time_warp\": True,\n",
    "        \"apply_time_mask\": True,\n",
    "        \"apply_freq_mask\": True,\n",
    "        \"time_warp_window\": 5,\n",
    "        \"time_mask_width_range\": [0, 40],\n",
    "        \"freq_mask_width_range\": [0, 50],\n",
    "        \"num_freq_mask\": 4,\n",
    "        \"num_time_mask\": 2,\n",
    "    }\n",
    ")\n",
    "\n",
    "device = 'cuda'\n",
    "\n",
    "transform = Spectrogram(num_stft_frequencies=n_fft)\n",
    "num_samples=10\n",
    "subset = Subset(dataset, torch.arange(num_samples))\n",
    "wavs = [data[0] for data in subset]\n",
    "aug_specs = [specaug(einops.rearrange(transform.wav_to_spec(wav), \"h w complex -> complex h w\"))[0] for wav in wavs]\n",
    "aug_wavs = [transform.spec_to_wav(torch.complex(specs[0], specs[1])) for specs in aug_specs]\n",
    "play_audio(aug_wavs[3].cpu(), 44100)"
   ]
  },
  {
   "cell_type": "code",
   "execution_count": null,
   "metadata": {},
   "outputs": [],
   "source": [
    "SAMPLE_RATE = 44100\n",
    "n_fft = 2048\n",
    "n_stft = int((n_fft // 2) + 1)\n",
    "specaug = SpecAug(\n",
    "    **{\n",
    "        \"adaptive\": False,\n",
    "        \"adaptive_number_ratio\": 0.04,\n",
    "        \"adaptive_size_ratio\": 0.04,\n",
    "        \"max_n_time_masks\": 20,\n",
    "        \"apply_time_warp\": True,\n",
    "        \"apply_time_mask\": True,\n",
    "        \"apply_freq_mask\": True,\n",
    "        \"time_warp_window\": 5,\n",
    "        \"time_mask_width_range\": [0, 40],\n",
    "        \"freq_mask_width_range\": [0, 5],\n",
    "        \"num_freq_mask\": 4,\n",
    "        \"num_time_mask\": 2,\n",
    "    }\n",
    ")\n",
    "\n",
    "device = \"cuda\"\n",
    "\n",
    "transform = Spectrogram(num_stft_frequencies=n_fft)\n",
    "spectrogram = transform.wav_to_spec(dataset[0][0])\n",
    "print(spectrogram.size())\n",
    "augmented = [specaug([spectrogram[:, :, 0]])[0][0], specaug([spectrogram[:, :, 1]])[0][0]]\n",
    "display(augmented[0][0].size())\n",
    "display(augmented[0])\n",
    "raw = transform.spec_to_wav(torch.complex(augmented[0], augmented[1]))\n",
    "\n",
    "play_audio(raw, 44100)"
   ]
  }
 ],
 "metadata": {
  "kernelspec": {
   "display_name": "s3prl",
   "language": "python",
   "name": "python3"
  },
  "language_info": {
   "codemirror_mode": {
    "name": "ipython",
    "version": 3
   },
   "file_extension": ".py",
   "mimetype": "text/x-python",
   "name": "python",
   "nbconvert_exporter": "python",
   "pygments_lexer": "ipython3",
   "version": "3.8.18"
  }
 },
 "nbformat": 4,
 "nbformat_minor": 2
}
