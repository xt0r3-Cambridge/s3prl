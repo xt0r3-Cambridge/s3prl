{
 "cells": [
  {
   "cell_type": "code",
   "execution_count": null,
   "metadata": {},
   "outputs": [],
   "source": [
    "import torch\n",
    "import torchaudio\n",
    "from IPython.display import Audio, display\n",
    "from speechbrain.lobes.augment import TimeDomainSpecAugment\n",
    "\n",
    "from s3prl.downstream.augment_utils.phase_perturbation import PhasePerturbation\n",
    "from s3prl.downstream.mdd.dataset import L2ArcticDataset"
   ]
  },
  {
   "cell_type": "code",
   "execution_count": null,
   "metadata": {},
   "outputs": [],
   "source": [
    "dataset = L2ArcticDataset(\n",
    "    'train',\n",
    "    '/home/xt0r3-user/cambridge/partii/dissertation/s3prl/data/l2arctic_release_v5.0',\n",
    "    '/home/xt0r3-user/cambridge/partii/dissertation/s3prl/s3prl/s3prl/downstream/mdd/data/'\n",
    ")"
   ]
  },
  {
   "cell_type": "code",
   "execution_count": null,
   "metadata": {},
   "outputs": [],
   "source": [
    "def play_audio(waveform, sample_rate):\n",
    "  waveform = waveform.numpy()\n",
    "  display(Audio(waveform, rate=sample_rate))"
   ]
  },
  {
   "cell_type": "code",
   "execution_count": null,
   "metadata": {},
   "outputs": [],
   "source": [
    "audio = torchaudio.functional.resample(dataset[0][0], orig_freq=44100, new_freq=16000)\n",
    "\n",
    "play_audio(audio, 16000)"
   ]
  },
  {
   "cell_type": "code",
   "execution_count": null,
   "metadata": {},
   "outputs": [],
   "source": [
    "augmentation = TimeDomainSpecAugment(\n",
    "    speeds=[95, 100, 105],\n",
    "    sample_rate=16000,\n",
    ")\n",
    "play_audio(augmentation(\n",
    "    torch.nn.utils.rnn.pad_sequence([audio], batch_first=True),\n",
    "    torch.tensor([len(audio)], dtype=torch.long))[0], sample_rate=16000)"
   ]
  },
  {
   "cell_type": "code",
   "execution_count": null,
   "metadata": {},
   "outputs": [],
   "source": [
    "SAMPLE_RATE = 16000\n",
    "n_fft = 512\n",
    "n_stft = int((n_fft // 2) + 1)\n",
    "phaseperturb = PhasePerturbation(\n",
    "       noise_scale=0.15,\n",
    "       num_stft_frequencies=2048,\n",
    "       hop_length=128,\n",
    ")\n",
    "raw = phaseperturb([audio])\n",
    "\n",
    "play_audio(raw[0], 16000)"
   ]
  },
  {
   "cell_type": "code",
   "execution_count": null,
   "metadata": {},
   "outputs": [],
   "source": []
  }
 ],
 "metadata": {
  "kernelspec": {
   "display_name": "s3prl",
   "language": "python",
   "name": "python3"
  },
  "language_info": {
   "codemirror_mode": {
    "name": "ipython",
    "version": 3
   },
   "file_extension": ".py",
   "mimetype": "text/x-python",
   "name": "python",
   "nbconvert_exporter": "python",
   "pygments_lexer": "ipython3",
   "version": "3.8.18"
  }
 },
 "nbformat": 4,
 "nbformat_minor": 2
}
