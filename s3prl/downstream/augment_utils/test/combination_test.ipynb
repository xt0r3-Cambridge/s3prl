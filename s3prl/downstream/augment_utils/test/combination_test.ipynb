{
 "cells": [
  {
   "cell_type": "code",
   "execution_count": null,
   "metadata": {},
   "outputs": [],
   "source": [
    "import torch\n",
    "import torchaudio\n",
    "from IPython.display import Audio, display\n",
    "from speechbrain.lobes.augment import TimeDomainSpecAugment\n",
    "\n",
    "from s3prl.downstream.augment_utils import TempoPerturbation, AddNoise, VLTP\n",
    "from s3prl.downstream.mdd.dataset import L2ArcticDataset"
   ]
  },
  {
   "cell_type": "code",
   "execution_count": null,
   "metadata": {},
   "outputs": [],
   "source": [
    "dataset = L2ArcticDataset(\n",
    "    'train',\n",
    "    '/home/xt0r3-user/cambridge/partii/dissertation/s3prl/data/l2arctic_release_v5.0',\n",
    "    '/home/xt0r3-user/cambridge/partii/dissertation/s3prl/s3prl/s3prl/downstream/mdd/data/'\n",
    ")"
   ]
  },
  {
   "cell_type": "code",
   "execution_count": null,
   "metadata": {},
   "outputs": [],
   "source": [
    "def play_audio(waveform, sample_rate):\n",
    "  waveform = waveform.numpy()\n",
    "  display(Audio(waveform, rate=sample_rate))"
   ]
  },
  {
   "cell_type": "code",
   "execution_count": null,
   "metadata": {},
   "outputs": [],
   "source": [
    "audio = torchaudio.functional.resample(dataset[0][0], orig_freq=44100, new_freq=16000)\n",
    "\n",
    "play_audio(audio, 16000)"
   ]
  },
  {
   "cell_type": "code",
   "execution_count": null,
   "metadata": {},
   "outputs": [],
   "source": [
    "add_noise = AddNoise(\n",
    "    prob=0.9,\n",
    "    snr_low=0,\n",
    "    snr_high=1,\n",
    "    device=\"cpu\",\n",
    ")\n",
    "\n",
    "\n",
    "timedomain_specaug = TimeDomainSpecAugment(\n",
    "    speeds=[95, 100, 105],\n",
    "    sample_rate=16000,\n",
    ")\n",
    "\n",
    "tempo_perturbation = TempoPerturbation(\n",
    "    N=1024,\n",
    "    sample_rate=16000,\n",
    "    alpha_high=1.2,\n",
    "    alpha_low=0.5,\n",
    "    delta_max=512,\n",
    "    prob=1.0,\n",
    ")"
   ]
  },
  {
   "cell_type": "code",
   "execution_count": null,
   "metadata": {},
   "outputs": [],
   "source": [
    "torch.manual_seed(1337)\n",
    "audio = torchaudio.functional.resample(dataset[0][0], orig_freq=44100, new_freq=16000)\n",
    "\n",
    "audio = tempo_perturbation([audio])[0]\n",
    "# audio = vltp([audio])[0]\n",
    "\n",
    "audio = timedomain_specaug(\n",
    "    torch.nn.utils.rnn.pad_sequence([audio], batch_first=True),\n",
    "    torch.tensor([len(audio)], dtype=torch.long))\n",
    "\n",
    "print(audio.shape)\n",
    "\n",
    "lens = torch.tensor([len(audio[0])], dtype=torch.long)\n",
    "audio = add_noise(\n",
    "        audio,\n",
    "        lens,\n",
    "    )[0][:lens[0]]\n"
   ]
  },
  {
   "cell_type": "code",
   "execution_count": null,
   "metadata": {},
   "outputs": [],
   "source": [
    "play_audio(\n",
    "    audio,\n",
    "    sample_rate=16000,\n",
    ")"
   ]
  }
 ],
 "metadata": {
  "kernelspec": {
   "display_name": "s3prl",
   "language": "python",
   "name": "python3"
  },
  "language_info": {
   "codemirror_mode": {
    "name": "ipython",
    "version": 3
   },
   "file_extension": ".py",
   "mimetype": "text/x-python",
   "name": "python",
   "nbconvert_exporter": "python",
   "pygments_lexer": "ipython3",
   "version": "3.8.18"
  }
 },
 "nbformat": 4,
 "nbformat_minor": 2
}
