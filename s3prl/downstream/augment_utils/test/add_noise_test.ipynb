{
 "cells": [
  {
   "cell_type": "code",
   "execution_count": null,
   "metadata": {},
   "outputs": [],
   "source": [
    "from s3prl.downstream.mdd.dataset import L2ArcticDataset\n",
    "from s3prl.downstream.augment_utils.add_noise import AddNoise\n",
    "from IPython.display import Audio, display\n",
    "import torch\n",
    "import torchaudio"
   ]
  },
  {
   "cell_type": "code",
   "execution_count": null,
   "metadata": {},
   "outputs": [],
   "source": [
    "dataset = L2ArcticDataset(\n",
    "    \"train\",\n",
    "    \"/home/xt0r3-user/cambridge/partii/dissertation/s3prl/data/l2arctic_release_v5.0\",\n",
    "    \"/home/xt0r3-user/cambridge/partii/dissertation/s3prl/s3prl/s3prl/downstream/mdd/data/\",\n",
    ")"
   ]
  },
  {
   "cell_type": "code",
   "execution_count": null,
   "metadata": {},
   "outputs": [],
   "source": [
    "def play_audio(waveform, sample_rate):\n",
    "    waveform = waveform.numpy()\n",
    "    display(Audio(waveform, rate=sample_rate))\n",
    "\n",
    "\n",
    "audio = [\n",
    "    torchaudio.functional.resample(dataset[0][0], orig_freq=44100, new_freq=16000),\n",
    "    torchaudio.functional.resample(dataset[1][0], orig_freq=44100, new_freq=16000),\n",
    "]"
   ]
  },
  {
   "cell_type": "code",
   "execution_count": null,
   "metadata": {},
   "outputs": [],
   "source": [
    "play_audio(audio[0], 16000)"
   ]
  },
  {
   "cell_type": "code",
   "execution_count": null,
   "metadata": {},
   "outputs": [],
   "source": [
    "augmentation = AddNoise(\n",
    "    prob=1.0,\n",
    "    snr_low=0,\n",
    "    snr_high=0.4,\n",
    "    device=\"cpu\",\n",
    ")\n",
    "audio = torch.nn.utils.rnn.pad_sequence(audio, batch_first=True)\n",
    "lens = torch.tensor([len(audio[0]), len(audio[1])], dtype=torch.long)\n",
    "aug_audio =     augmentation(\n",
    "        audio,\n",
    "        lens,\n",
    "    )\n",
    "play_audio(\n",
    "    aug_audio[0],\n",
    "    sample_rate=16000,\n",
    ")\n",
    "\n",
    "audio - aug_audio"
   ]
  }
 ],
 "metadata": {
  "kernelspec": {
   "display_name": "s3prl",
   "language": "python",
   "name": "python3"
  },
  "language_info": {
   "codemirror_mode": {
    "name": "ipython",
    "version": 3
   },
   "file_extension": ".py",
   "mimetype": "text/x-python",
   "name": "python",
   "nbconvert_exporter": "python",
   "pygments_lexer": "ipython3",
   "version": "3.8.18"
  }
 },
 "nbformat": 4,
 "nbformat_minor": 2
}
