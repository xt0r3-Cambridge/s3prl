{
 "cells": [
  {
   "cell_type": "code",
   "execution_count": 34,
   "metadata": {},
   "outputs": [
    {
     "name": "stdout",
     "output_type": "stream",
     "text": [
      "The autoreload extension is already loaded. To reload it, use:\n",
      "  %reload_ext autoreload\n"
     ]
    }
   ],
   "source": [
    "%load_ext autoreload\n",
    "%autoreload 2"
   ]
  },
  {
   "cell_type": "code",
   "execution_count": 35,
   "metadata": {},
   "outputs": [],
   "source": [
    "from dataset import L2ArcticDataset\n",
    "from model import Model"
   ]
  },
  {
   "cell_type": "code",
   "execution_count": 36,
   "metadata": {},
   "outputs": [
    {
     "name": "stdout",
     "output_type": "stream",
     "text": [
      "Skipping malformatted TextGrid file: /home/xt0r3-user/cambridge/partii/dissertation/s3prl/data/l2arctic_release_v5.0/YDCK/annotation/arctic_a0272.TextGrid\n",
      "Skipping malformatted TextGrid file: /home/xt0r3-user/cambridge/partii/dissertation/s3prl/data/l2arctic_release_v5.0/YDCK/annotation/arctic_a0209.TextGrid\n"
     ]
    }
   ],
   "source": [
    "data = L2ArcticDataset(\n",
    "    \"train\",\n",
    "    \"/home/xt0r3-user/cambridge/partii/dissertation/s3prl/data/l2arctic_release_v5.0\", \n",
    "    \"./data\"\n",
    ")"
   ]
  },
  {
   "cell_type": "code",
   "execution_count": 37,
   "metadata": {},
   "outputs": [
    {
     "data": {
      "text/plain": [
       "(tensor([-6.8054e-03, -7.1716e-03, -6.6833e-03,  ...,  7.6294e-04,\n",
       "          3.0518e-05,  1.2207e-04]),\n",
       " tensor([ 0, 12, 35, 12, 42,  0, 23,  9, 39, 45,  1, 48, 40,  3, 34, 43, 12, 36,\n",
       "         23,  2, 42,  0, 45,  4, 48,  4, 33, 34, 15, 40, 42,  0, 42, 39,  2, 31,\n",
       "          3, 22, 14,  0,  0]),\n",
       " tensor([ 0,  9, 35,  9, 42,  0, 48,  9, 39, 45,  1, 48, 40,  3, 34, 43, 12, 36,\n",
       "         48,  2, 42,  0, 45,  4, 48,  4, 33, 34, 15, 40, 42,  0, 42, 39,  2, 31,\n",
       "          3, 22, 14,  0,  0]),\n",
       " 41,\n",
       " 41)"
      ]
     },
     "execution_count": 37,
     "metadata": {},
     "output_type": "execute_result"
    }
   ],
   "source": [
    "data[3]"
   ]
  },
  {
   "cell_type": "code",
   "execution_count": 45,
   "metadata": {},
   "outputs": [
    {
     "data": {
      "text/plain": [
       "[(tensor([0.0179, 0.0180, 0.0183,  ..., 0.0058, 0.0063, 0.0069]),\n",
       "  tensor([30, 14, 45, 11, 22, 12, 22, 12, 35, 42, 18, 23,  3,  9, 31,  0,  3, 44,\n",
       "          23,  3, 45,  4, 42, 10,  0,  3, 35, 22, 20, 12, 29,  2, 35,  0, 40, 32,\n",
       "          39,  3, 20, 12, 36,  0, 30, 12, 34, 40,  9, 33, 28,  0]),\n",
       "  tensor([30, 14, 45, 11, 22, 12, 22, 12, 35, 42, 18, 23,  3,  9, 31,  0,  3, 44,\n",
       "          23,  3, 45, 15, 42, 10,  0,  3, 35, 22, 20, 12, 29,  2, 35,  0, 40, 32,\n",
       "          39,  3, 20, 12, 36, 32, 30, 12, 34, 40,  9, 33, 28,  0]),\n",
       "  50,\n",
       "  50),\n",
       " (tensor([0.0110, 0.0099, 0.0096,  ..., 0.0204, 0.0207, 0.0198]),\n",
       "  tensor([47, 18, 34,  3, 40, 42,  0, 40, 33, 14, 37,  0, 30, 14, 10, 31, 22,  0,\n",
       "           0]),\n",
       "  tensor([47, 18, 34,  3, 40,  0,  3, 40, 33, 14, 37,  0, 30, 14, 10, 49, 22,  0,\n",
       "           0]),\n",
       "  19,\n",
       "  19),\n",
       " (tensor([-6.8054e-03, -7.1716e-03, -6.6833e-03,  ...,  7.6294e-04,\n",
       "           3.0518e-05,  1.2207e-04]),\n",
       "  tensor([ 0, 12, 35, 12, 42,  0, 23,  9, 39, 45,  1, 48, 40,  3, 34, 43, 12, 36,\n",
       "          23,  2, 42,  0, 45,  4, 48,  4, 33, 34, 15, 40, 42,  0, 42, 39,  2, 31,\n",
       "           3, 22, 14,  0,  0]),\n",
       "  tensor([ 0,  9, 35,  9, 42,  0, 48,  9, 39, 45,  1, 48, 40,  3, 34, 43, 12, 36,\n",
       "          48,  2, 42,  0, 45,  4, 48,  4, 33, 34, 15, 40, 42,  0, 42, 39,  2, 31,\n",
       "           3, 22, 14,  0,  0]),\n",
       "  41,\n",
       "  41)]"
      ]
     },
     "execution_count": 45,
     "metadata": {},
     "output_type": "execute_result"
    }
   ],
   "source": [
    "import torch\n",
    "import numpy as np\n",
    "list(torch.utils.data.Subset(data, np.arange(1, 4)))"
   ]
  },
  {
   "cell_type": "code",
   "execution_count": 39,
   "metadata": {},
   "outputs": [],
   "source": [
    "loader = torch.utils.data.DataLoader(\n",
    "    data,\n",
    "    batch_size=4,  # for bucketing\n",
    "    shuffle=True,\n",
    "    num_workers=4,\n",
    "    drop_last=False,\n",
    "    pin_memory=True,\n",
    "    collate_fn=data.collate_fn,\n",
    ")"
   ]
  },
  {
   "cell_type": "code",
   "execution_count": 40,
   "metadata": {},
   "outputs": [
    {
     "data": {
      "text/plain": [
       "[[tensor([ 3.0518e-05, -6.1035e-05,  9.1553e-05,  ..., -6.1035e-05,\n",
       "           3.0518e-05, -3.0518e-05]),\n",
       "  tensor([-0.0018, -0.0016, -0.0019,  ...,  0.0029,  0.0032,  0.0034]),\n",
       "  tensor([ 0.0027,  0.0020,  0.0017,  ..., -0.0004, -0.0009, -0.0008]),\n",
       "  tensor([-0.0159, -0.0173, -0.0177,  ...,  0.0074,  0.0064,  0.0066])],\n",
       " tensor([[23, 12, 40, 45,  3, 35, 30, 15, 37, 45,  1, 48, 22, 12, 40, 42, 39, 16,\n",
       "          22,  2, 48, 32, 45, 12, 32, 33, 14,  2, 48, 12, 42, 45,  3, 48, 20,  4,\n",
       "          39, 35,  0,  0,  0,  0,  0,  0],\n",
       "         [ 0,  8, 30,  2, 44, 42,  3, 20, 14, 32,  9, 39, 28,  3, 33,  3, 44, 23,\n",
       "           9, 34,  0,  2, 48, 23, 11, 42, 12, 39, 44,  9, 39, 14, 14, 48,  3, 33,\n",
       "          14,  0,  0,  0,  0,  0,  0,  0],\n",
       "         [ 0, 12, 35, 40, 42,  9, 22,  0, 30, 14, 31, 16, 35, 22, 30, 10,  0,  2,\n",
       "          35, 22, 23, 11, 11, 42, 33,  8, 32, 42, 18, 30,  3, 36, 29, 39, 14, 21,\n",
       "          12, 33, 22, 39,  3, 35,  0,  0],\n",
       "         [22, 18, 47, 18, 35, 15, 23,  2, 42, 47, 18,  1, 39, 41, 11, 32, 12, 36,\n",
       "          34,  8, 32,  1, 35, 28,  3, 22,  3, 35, 40,  0, 12,  0, 35, 47, 18,  0,\n",
       "           0,  0,  0,  0,  0,  0,  0,  0]]),\n",
       " tensor([[23, 12, 40, 45,  3, 35, 30,  4, 37, 45,  1, 48, 22, 12, 40, 42, 39, 16,\n",
       "          22,  2, 48, 32, 45, 12, 32, 33, 14,  2, 48, 12, 42, 45,  3, 48, 20,  4,\n",
       "          39, 35,  0,  0,  0,  0,  0,  0],\n",
       "         [ 0,  3, 30,  2, 44, 42, 17, 20, 14, 32,  0, 10, 28,  3, 33,  3, 44, 22,\n",
       "           9, 34,  0,  2, 48, 23, 11, 42, 12, 39, 44,  9, 39, 14, 14, 48,  3, 33,\n",
       "          14,  0,  0,  0,  0,  0,  0,  0],\n",
       "         [ 0, 12, 35, 40, 42,  9,  0,  0, 30, 14, 31, 16, 35, 22, 30,  6,  0,  2,\n",
       "          35,  0, 22,  9,  9, 22, 33,  8,  0, 42, 18, 30,  3, 36, 29, 39, 14, 21,\n",
       "          12, 33, 22, 39,  3, 35,  0,  0],\n",
       "         [22, 18, 47, 18, 35, 15, 22,  2, 42, 47, 18,  1,  0, 41, 11, 32, 12, 36,\n",
       "          34,  8, 32,  4, 35, 28,  3, 22,  3, 35,  0,  0, 12,  0, 35, 47, 18,  0,\n",
       "           0,  0,  0,  0,  0,  0,  0,  0]]),\n",
       " tensor([39, 39, 44, 36]),\n",
       " tensor([39, 39, 44, 36])]"
      ]
     },
     "metadata": {},
     "output_type": "display_data"
    }
   ],
   "source": [
    "for item in loader:\n",
    "    display(item)\n",
    "    break"
   ]
  },
  {
   "cell_type": "code",
   "execution_count": 41,
   "metadata": {},
   "outputs": [],
   "source": [
    "from tqdm import tqdm"
   ]
  },
  {
   "cell_type": "code",
   "execution_count": 42,
   "metadata": {},
   "outputs": [
    {
     "name": "stderr",
     "output_type": "stream",
     "text": [
      "train:   0%|          | 0/712 [00:00<?, ?it/s]"
     ]
    },
    {
     "data": {
      "text/plain": [
       "0"
      ]
     },
     "metadata": {},
     "output_type": "display_data"
    },
    {
     "data": {
      "text/plain": [
       "[tensor([-0.0223, -0.0226, -0.0231,  ...,  0.0002,  0.0010,  0.0010]),\n",
       " tensor([-0.0007, -0.0016, -0.0027,  ...,  0.0033,  0.0027,  0.0033]),\n",
       " tensor([-0.0152, -0.0151, -0.0148,  ..., -0.0209, -0.0210, -0.0210]),\n",
       " tensor([-0.0093, -0.0081, -0.0078,  ..., -0.0033, -0.0032, -0.0037])]"
      ]
     },
     "metadata": {},
     "output_type": "display_data"
    },
    {
     "data": {
      "text/plain": [
       "tensor([[ 0, 47, 18, 30,  2, 44,  3, 40, 15, 41, 14, 11, 42,  3, 22,  0, 45, 12,\n",
       "         43, 40,  3, 34,  3, 44, 23, 14, 48, 34,  9, 35,  0,  0,  0,  0,  0,  0,\n",
       "          0,  0,  0,  0,  0,  0,  0,  0,  0,  0,  0,  0,  0,  0,  0],\n",
       "        [ 0, 28, 39, 10,  3, 28, 17, 33, 34, 12, 35,  3, 42, 30, 14, 32, 39,  5,\n",
       "         21, 42,  2, 35, 22, 33, 12, 40,  3, 35, 22,  0,  0,  0,  0,  0,  0,  0,\n",
       "          0,  0,  0,  0,  0,  0,  0,  0,  0,  0,  0,  0,  0,  0,  0],\n",
       "        [ 0, 22,  9, 43,  0, 30,  2, 22, 32,  3, 34, 45, 12, 23, 42,  9, 39,  3,\n",
       "         20,  3, 33, 40,  3, 22,  3, 35, 35,  3, 40,  0,  0,  0,  0,  0,  0,  0,\n",
       "          0,  0,  0,  0,  0,  0,  0,  0,  0,  0,  0,  0,  0,  0,  0],\n",
       "        [ 0, 23,  9, 35, 47, 18, 32,  2, 35, 10, 11, 35, 31, 47, 10, 40,  9, 33,\n",
       "         28,  0, 32,  3, 34, 28, 10, 42,  3, 20, 33, 14,  0,  3, 34,  3, 36, 23,\n",
       "         14, 48, 39, 15, 20, 48,  0, 12, 35, 23,  3, 20, 15,  0,  0]])"
      ]
     },
     "metadata": {},
     "output_type": "display_data"
    },
    {
     "data": {
      "text/plain": [
       "tensor([[ 0, 47, 18, 30,  2, 44,  3, 40, 15, 41, 14, 11, 42,  3, 22,  0, 45, 12,\n",
       "         40, 40,  3, 34,  3, 44, 22, 14, 40, 34,  9, 35,  0,  0,  0,  0,  0,  0,\n",
       "          0,  0,  0,  0,  0,  0,  0,  0,  0,  0,  0,  0,  0,  0,  0],\n",
       "        [ 0, 28, 39, 10,  3, 28, 17, 33, 34, 12, 35,  3, 42, 30, 14, 32, 39,  2,\n",
       "         21, 42,  2, 35, 22, 33, 14, 40,  3, 35, 42,  0,  0,  0,  0,  0,  0,  0,\n",
       "          0,  0,  0,  0,  0,  0,  0,  0,  0,  0,  0,  0,  0,  0,  0],\n",
       "        [ 0, 22,  2, 43,  0, 30,  2, 22, 32,  3, 34, 45, 12, 22, 42,  9, 39,  3,\n",
       "         20,  3, 33, 40,  3, 22,  3, 35, 33,  3, 40,  0,  0,  0,  0,  0,  0,  0,\n",
       "          0,  0,  0,  0,  0,  0,  0,  0,  0,  0,  0,  0,  0,  0,  0],\n",
       "        [ 0, 22,  9, 35, 47, 18, 32,  2, 35, 10, 14, 35, 21, 47, 10, 40,  9, 33,\n",
       "         28,  0, 32,  3, 34, 28, 10, 42, 20,  3, 33, 14,  0,  3, 34,  3, 35, 22,\n",
       "         14, 40, 39, 15, 20, 40,  0, 12, 35, 22,  3, 20, 15,  0,  0]])"
      ]
     },
     "metadata": {},
     "output_type": "display_data"
    },
    {
     "data": {
      "text/plain": [
       "tensor([32, 31, 31, 51])"
      ]
     },
     "metadata": {},
     "output_type": "display_data"
    },
    {
     "data": {
      "text/plain": [
       "tensor([32, 31, 31, 51])"
      ]
     },
     "metadata": {},
     "output_type": "display_data"
    },
    {
     "name": "stderr",
     "output_type": "stream",
     "text": [
      "train:   0%|          | 0/712 [00:00<?, ?it/s]\n"
     ]
    }
   ],
   "source": [
    "for batch_id, (wav_view, *others) in enumerate(tqdm(loader, dynamic_ncols=True, desc='train')):\n",
    "    display(batch_id)\n",
    "    display(wav_view)\n",
    "    display(*others)\n",
    "    break\n",
    "    # print(*others)"
   ]
  },
  {
   "cell_type": "code",
   "execution_count": 43,
   "metadata": {},
   "outputs": [
    {
     "data": {
      "text/plain": [
       "(tensor([-0.0026, -0.0026, -0.0024,  ...,  0.0006,  0.0004,  0.0002]),\n",
       " tensor([30, 14, 45, 12, 33, 28,  1, 33, 15,  3, 40, 40, 18, 35,  0,  0]),\n",
       " tensor([30, 14, 45, 12, 33, 28,  1, 33,  4,  3, 40, 40, 18, 35,  0,  0]),\n",
       " 16,\n",
       " 16)"
      ]
     },
     "execution_count": 43,
     "metadata": {},
     "output_type": "execute_result"
    }
   ],
   "source": [
    "data[400]"
   ]
  },
  {
   "cell_type": "code",
   "execution_count": 44,
   "metadata": {},
   "outputs": [
    {
     "ename": "TypeError",
     "evalue": "list indices must be integers or slices, not str",
     "output_type": "error",
     "traceback": [
      "\u001b[0;31m---------------------------------------------------------------------------\u001b[0m",
      "\u001b[0;31mTypeError\u001b[0m                                 Traceback (most recent call last)",
      "\u001b[1;32m/home/xt0r3-user/cambridge/partii/dissertation/s3prl/s3prl/s3prl/downstream/mdd/testing.ipynb Cell 11\u001b[0m line \u001b[0;36m1\n\u001b[0;32m----> <a href='vscode-notebook-cell:/home/xt0r3-user/cambridge/partii/dissertation/s3prl/s3prl/s3prl/downstream/mdd/testing.ipynb#W5sZmlsZQ%3D%3D?line=0'>1</a>\u001b[0m data[\u001b[39m3\u001b[39;49m:\u001b[39m5\u001b[39;49m]\n",
      "File \u001b[0;32m~/cambridge/partii/dissertation/s3prl/s3prl/s3prl/downstream/mdd/dataset.py:129\u001b[0m, in \u001b[0;36mL2ArcticDataset.__getitem__\u001b[0;34m(self, index)\u001b[0m\n\u001b[1;32m    128\u001b[0m \u001b[39mdef\u001b[39;00m \u001b[39m__getitem__\u001b[39m(\u001b[39mself\u001b[39m, index):\n\u001b[0;32m--> 129\u001b[0m     item_root \u001b[39m=\u001b[39m \u001b[39mself\u001b[39;49m\u001b[39m.\u001b[39;49mitem_paths[index][\u001b[39m\"\u001b[39;49m\u001b[39mitem_root\u001b[39;49m\u001b[39m\"\u001b[39;49m]\n\u001b[1;32m    130\u001b[0m     item_stem \u001b[39m=\u001b[39m \u001b[39mself\u001b[39m\u001b[39m.\u001b[39mitem_paths[index][\u001b[39m\"\u001b[39m\u001b[39mitem_stem\u001b[39m\u001b[39m\"\u001b[39m]\n\u001b[1;32m    132\u001b[0m     wav_view \u001b[39m=\u001b[39m \u001b[39mself\u001b[39m\u001b[39m.\u001b[39m_load_wav(item_root \u001b[39m/\u001b[39m \u001b[39mf\u001b[39m\u001b[39m\"\u001b[39m\u001b[39mwav/\u001b[39m\u001b[39m{\u001b[39;00mitem_stem\u001b[39m}\u001b[39;00m\u001b[39m.wav\u001b[39m\u001b[39m\"\u001b[39m)\n",
      "\u001b[0;31mTypeError\u001b[0m: list indices must be integers or slices, not str"
     ]
    }
   ],
   "source": [
    "data[3:5]"
   ]
  },
  {
   "cell_type": "code",
   "execution_count": null,
   "metadata": {},
   "outputs": [],
   "source": [
    "l1_model = Model(\n",
    "    input_dim=self.upstream_dim,\n",
    "    output_class_num=self.dataset['train'].output_class_num\n",
    "    **self.modelrc,"
   ]
  }
 ],
 "metadata": {
  "kernelspec": {
   "display_name": "s3prl",
   "language": "python",
   "name": "python3"
  },
  "language_info": {
   "codemirror_mode": {
    "name": "ipython",
    "version": 3
   },
   "file_extension": ".py",
   "mimetype": "text/x-python",
   "name": "python",
   "nbconvert_exporter": "python",
   "pygments_lexer": "ipython3",
   "version": "3.8.18"
  }
 },
 "nbformat": 4,
 "nbformat_minor": 2
}
